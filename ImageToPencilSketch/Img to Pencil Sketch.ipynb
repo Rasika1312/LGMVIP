{
 "cells": [
  {
   "cell_type": "markdown",
   "id": "31c95bd8",
   "metadata": {},
   "source": [
    "# LGMVIP - Task 4 (Beginner Level)\n",
    "# Image to Pencil Sketch with Python"
   ]
  },
  {
   "cell_type": "markdown",
   "id": "6acaefac",
   "metadata": {},
   "source": [
    "#  "
   ]
  },
  {
   "cell_type": "markdown",
   "id": "bf8188d5",
   "metadata": {},
   "source": [
    "Importing Libraries"
   ]
  },
  {
   "cell_type": "code",
   "execution_count": 1,
   "id": "92b33896",
   "metadata": {},
   "outputs": [],
   "source": [
    "import cv2"
   ]
  },
  {
   "cell_type": "markdown",
   "id": "6e9ef93f",
   "metadata": {},
   "source": [
    "######  "
   ]
  },
  {
   "cell_type": "markdown",
   "id": "31438b03",
   "metadata": {},
   "source": [
    "Reading Image files"
   ]
  },
  {
   "cell_type": "code",
   "execution_count": 2,
   "id": "afc4e912",
   "metadata": {},
   "outputs": [],
   "source": [
    "img_location = 'C:/Users/Rasika Choraghe/Desktop/LGMVIP/ImageToPencilSketch'\n",
    "filename = 'images.jpeg'"
   ]
  },
  {
   "cell_type": "code",
   "execution_count": 3,
   "id": "f683e274",
   "metadata": {},
   "outputs": [],
   "source": [
    "img = cv2.imread('C:/Users/Rasika Choraghe/Desktop/LGMVIP/ImageToPencilSketch/images.jpeg')"
   ]
  },
  {
   "cell_type": "markdown",
   "id": "0bb44aae",
   "metadata": {},
   "source": [
    "######  "
   ]
  },
  {
   "cell_type": "markdown",
   "id": "5b633da8",
   "metadata": {},
   "source": [
    "converting the original image to grayscale"
   ]
  },
  {
   "cell_type": "code",
   "execution_count": 4,
   "id": "77e9287f",
   "metadata": {},
   "outputs": [],
   "source": [
    "gray_image = cv2.cvtColor(img, cv2.COLOR_BGR2GRAY)"
   ]
  },
  {
   "cell_type": "markdown",
   "id": "02c552d7",
   "metadata": {},
   "source": [
    "######  "
   ]
  },
  {
   "cell_type": "markdown",
   "id": "670a3812",
   "metadata": {},
   "source": [
    "Invert the newly created image"
   ]
  },
  {
   "cell_type": "code",
   "execution_count": 5,
   "id": "16d71c55",
   "metadata": {},
   "outputs": [],
   "source": [
    "inverted_gray_image = 255 - gray_image"
   ]
  },
  {
   "cell_type": "markdown",
   "id": "a4e6d12f",
   "metadata": {},
   "source": [
    "######  "
   ]
  },
  {
   "cell_type": "markdown",
   "id": "9cdd7102",
   "metadata": {},
   "source": [
    "blur the image by a Gaussian function"
   ]
  },
  {
   "cell_type": "code",
   "execution_count": 6,
   "id": "02e33ef6",
   "metadata": {},
   "outputs": [],
   "source": [
    "blurred_img = cv2.GaussianBlur(inverted_gray_image, (21,21),0)"
   ]
  },
  {
   "cell_type": "markdown",
   "id": "ac2a89c1",
   "metadata": {},
   "source": [
    "######  "
   ]
  },
  {
   "cell_type": "markdown",
   "id": "4b23b3d8",
   "metadata": {},
   "source": [
    "Invert the blurred image"
   ]
  },
  {
   "cell_type": "code",
   "execution_count": 7,
   "id": "f9487e48",
   "metadata": {},
   "outputs": [],
   "source": [
    "inverted_blurred_img = 255 - blurred_img"
   ]
  },
  {
   "cell_type": "markdown",
   "id": "20cd233f",
   "metadata": {},
   "source": [
    "######  "
   ]
  },
  {
   "cell_type": "markdown",
   "id": "92df0ceb",
   "metadata": {},
   "source": [
    "create the pencil sketch image"
   ]
  },
  {
   "cell_type": "code",
   "execution_count": 8,
   "id": "db67625d",
   "metadata": {},
   "outputs": [],
   "source": [
    "pencil_sketch_IMG = cv2.divide(gray_image, inverted_blurred_img, scale = 256.0)"
   ]
  },
  {
   "cell_type": "markdown",
   "id": "ec9d085e",
   "metadata": {},
   "source": [
    "######  "
   ]
  },
  {
   "cell_type": "markdown",
   "id": "5b9c0d09",
   "metadata": {},
   "source": [
    "Displaying original and newly created Pencil sketch"
   ]
  },
  {
   "cell_type": "code",
   "execution_count": 9,
   "id": "657509c0",
   "metadata": {},
   "outputs": [
    {
     "data": {
      "text/plain": [
       "-1"
      ]
     },
     "execution_count": 9,
     "metadata": {},
     "output_type": "execute_result"
    }
   ],
   "source": [
    "#Show the original image\n",
    "cv2.imshow('Original Image', img)\n",
    "#Show the new image pencil sketch\n",
    "cv2.imshow('Pencil Sketch', pencil_sketch_IMG)\n",
    "#Display the window infinitely until any keypress\n",
    "cv2.waitKey(0)"
   ]
  },
  {
   "cell_type": "code",
   "execution_count": null,
   "id": "06c109fe",
   "metadata": {},
   "outputs": [],
   "source": []
  }
 ],
 "metadata": {
  "kernelspec": {
   "display_name": "Python 3",
   "language": "python",
   "name": "python3"
  },
  "language_info": {
   "codemirror_mode": {
    "name": "ipython",
    "version": 3
   },
   "file_extension": ".py",
   "mimetype": "text/x-python",
   "name": "python",
   "nbconvert_exporter": "python",
   "pygments_lexer": "ipython3",
   "version": "3.8.8"
  }
 },
 "nbformat": 4,
 "nbformat_minor": 5
}
