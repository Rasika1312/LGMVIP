{
 "cells": [
  {
   "cell_type": "markdown",
   "id": "3550ae78",
   "metadata": {},
   "source": [
    "# LGMVIP - Task 2 (Advanced Level)\n",
    "# Next Word Prediction"
   ]
  },
  {
   "cell_type": "code",
   "execution_count": 1,
   "id": "5d0529ea",
   "metadata": {},
   "outputs": [],
   "source": [
    "import numpy as np\n",
    "from nltk.tokenize import RegexpTokenizer\n",
    "from keras.models import Sequential, load_model\n",
    "from keras.layers import LSTM\n",
    "from keras.layers.core import Dense, Activation\n",
    "from tensorflow.keras.optimizers import RMSprop\n",
    "import matplotlib.pyplot as plt\n",
    "import pickle\n",
    "import heapq"
   ]
  },
  {
   "cell_type": "code",
   "execution_count": 2,
   "id": "bc16a68e",
   "metadata": {},
   "outputs": [
    {
     "name": "stdout",
     "output_type": "stream",
     "text": [
      "corpus length: 581888\n"
     ]
    }
   ],
   "source": [
    "text = open('C:/Users/Hrishikesh Choraghe/Desktop/LGMVIP/NextWordPrediction/1661-0.txt',encoding = 'utf-8').read().lower()\n",
    "print('corpus length:', len(text))"
   ]
  },
  {
   "cell_type": "code",
   "execution_count": 3,
   "id": "75f1997b",
   "metadata": {},
   "outputs": [],
   "source": [
    "tokenizer = RegexpTokenizer(r'\\w+')\n",
    "words = tokenizer.tokenize(text)"
   ]
  },
  {
   "cell_type": "code",
   "execution_count": 4,
   "id": "70dba248",
   "metadata": {},
   "outputs": [],
   "source": [
    "unique_words = np.unique(words)\n",
    "unique_word_index = dict((c, i) for i, c in enumerate(unique_words))"
   ]
  },
  {
   "cell_type": "code",
   "execution_count": 5,
   "id": "2a09ab77",
   "metadata": {},
   "outputs": [
    {
     "name": "stdout",
     "output_type": "stream",
     "text": [
      "['project', 'gutenberg', 's', 'the', 'adventures']\n",
      "of\n"
     ]
    }
   ],
   "source": [
    "WORD_LENGTH = 5\n",
    "prev_words = []\n",
    "next_words = []\n",
    "for i in range(len(words) - WORD_LENGTH):\n",
    "    prev_words.append(words[i:i + WORD_LENGTH])\n",
    "    next_words.append(words[i + WORD_LENGTH])\n",
    "print(prev_words[0])\n",
    "print(next_words[0])"
   ]
  },
  {
   "cell_type": "code",
   "execution_count": 6,
   "id": "c8320156",
   "metadata": {},
   "outputs": [],
   "source": [
    "X = np.zeros((len(prev_words), WORD_LENGTH, len(unique_words)), dtype=bool)\n",
    "Y = np.zeros((len(next_words), len(unique_words)), dtype=bool)"
   ]
  },
  {
   "cell_type": "code",
   "execution_count": 7,
   "id": "dbb12c36",
   "metadata": {},
   "outputs": [],
   "source": [
    "for i, each_words in enumerate(prev_words):\n",
    "    for j, each_word in enumerate(each_words):\n",
    "        X[i, j, unique_word_index[each_word]] = 1\n",
    "    Y[i, unique_word_index[next_words[i]]] = 1"
   ]
  },
  {
   "cell_type": "code",
   "execution_count": 8,
   "id": "1c36cf0d",
   "metadata": {},
   "outputs": [
    {
     "name": "stdout",
     "output_type": "stream",
     "text": [
      "[False False False ... False False False]\n"
     ]
    }
   ],
   "source": [
    "print(X[0][0])"
   ]
  },
  {
   "cell_type": "code",
   "execution_count": 9,
   "id": "de004e77",
   "metadata": {},
   "outputs": [],
   "source": [
    "model = Sequential()\n",
    "model.add(LSTM(128, input_shape=(WORD_LENGTH, len(unique_words))))\n",
    "model.add(Dense(len(unique_words)))\n",
    "model.add(Activation('softmax'))"
   ]
  },
  {
   "cell_type": "code",
   "execution_count": 10,
   "id": "e7bde521",
   "metadata": {},
   "outputs": [
    {
     "name": "stdout",
     "output_type": "stream",
     "text": [
      "Epoch 1/20\n"
     ]
    },
    {
     "name": "stderr",
     "output_type": "stream",
     "text": [
      "C:\\Users\\Hrishikesh Choraghe\\AppData\\Local\\Programs\\Python\\Python310\\lib\\site-packages\\keras\\optimizer_v2\\rmsprop.py:130: UserWarning: The `lr` argument is deprecated, use `learning_rate` instead.\n",
      "  super(RMSprop, self).__init__(name, **kwargs)\n"
     ]
    },
    {
     "name": "stdout",
     "output_type": "stream",
     "text": [
      "811/811 [==============================] - 89s 108ms/step - loss: 6.0134 - accuracy: 0.1069 - val_loss: 7.0265 - val_accuracy: 0.0987\n",
      "Epoch 2/20\n",
      "811/811 [==============================] - 89s 110ms/step - loss: 5.7783 - accuracy: 0.1480 - val_loss: 8.0090 - val_accuracy: 0.1102\n",
      "Epoch 3/20\n",
      "811/811 [==============================] - 88s 108ms/step - loss: 5.7483 - accuracy: 0.1767 - val_loss: 8.0541 - val_accuracy: 0.1095\n",
      "Epoch 4/20\n",
      "811/811 [==============================] - 88s 109ms/step - loss: 5.4323 - accuracy: 0.2127 - val_loss: 8.3282 - val_accuracy: 0.1060\n",
      "Epoch 5/20\n",
      "811/811 [==============================] - 87s 108ms/step - loss: 5.1115 - accuracy: 0.2513 - val_loss: 8.6017 - val_accuracy: 0.0943\n",
      "Epoch 6/20\n",
      "811/811 [==============================] - 86s 106ms/step - loss: 4.8188 - accuracy: 0.2915 - val_loss: 8.5957 - val_accuracy: 0.0910\n",
      "Epoch 7/20\n",
      "811/811 [==============================] - 88s 108ms/step - loss: 4.5710 - accuracy: 0.3315 - val_loss: 8.8956 - val_accuracy: 0.0835\n",
      "Epoch 8/20\n",
      "811/811 [==============================] - 87s 107ms/step - loss: 4.3539 - accuracy: 0.3676 - val_loss: 8.9182 - val_accuracy: 0.0822\n",
      "Epoch 9/20\n",
      "811/811 [==============================] - 87s 108ms/step - loss: 4.1893 - accuracy: 0.4001 - val_loss: 9.3924 - val_accuracy: 0.0824\n",
      "Epoch 10/20\n",
      "811/811 [==============================] - 88s 108ms/step - loss: 4.0357 - accuracy: 0.4322 - val_loss: 9.5902 - val_accuracy: 0.0815\n",
      "Epoch 11/20\n",
      "811/811 [==============================] - 2322s 3s/step - loss: 3.9193 - accuracy: 0.4591 - val_loss: 9.3687 - val_accuracy: 0.0721\n",
      "Epoch 12/20\n",
      "811/811 [==============================] - 86s 106ms/step - loss: 3.8233 - accuracy: 0.4817 - val_loss: 9.3031 - val_accuracy: 0.0723\n",
      "Epoch 13/20\n",
      "811/811 [==============================] - 89s 110ms/step - loss: 3.7830 - accuracy: 0.4978 - val_loss: 9.4408 - val_accuracy: 0.0721\n",
      "Epoch 14/20\n",
      "811/811 [==============================] - 87s 108ms/step - loss: 3.7318 - accuracy: 0.5132 - val_loss: 9.4449 - val_accuracy: 0.0670\n",
      "Epoch 15/20\n",
      "811/811 [==============================] - 87s 107ms/step - loss: 3.6700 - accuracy: 0.5287 - val_loss: 9.4093 - val_accuracy: 0.0694\n",
      "Epoch 16/20\n",
      "811/811 [==============================] - 87s 107ms/step - loss: 3.6236 - accuracy: 0.5419 - val_loss: 9.4477 - val_accuracy: 0.0670\n",
      "Epoch 17/20\n",
      "811/811 [==============================] - 88s 109ms/step - loss: 3.5651 - accuracy: 0.5536 - val_loss: 9.2757 - val_accuracy: 0.0666\n",
      "Epoch 18/20\n",
      "811/811 [==============================] - 87s 107ms/step - loss: 3.5231 - accuracy: 0.5647 - val_loss: 9.4586 - val_accuracy: 0.0648\n",
      "Epoch 19/20\n",
      "811/811 [==============================] - 87s 107ms/step - loss: 3.4914 - accuracy: 0.5738 - val_loss: 9.5462 - val_accuracy: 0.0646\n",
      "Epoch 20/20\n",
      "811/811 [==============================] - 87s 107ms/step - loss: 3.4607 - accuracy: 0.5823 - val_loss: 9.6430 - val_accuracy: 0.0661\n"
     ]
    }
   ],
   "source": [
    "optimizer = RMSprop(lr=0.01)\n",
    "model.compile(loss='categorical_crossentropy', optimizer=optimizer, metrics=['accuracy'])\n",
    "history = model.fit(X, Y, validation_split=0.05, batch_size=128, epochs=20, shuffle=True).history"
   ]
  },
  {
   "cell_type": "code",
   "execution_count": 11,
   "id": "f57cad16",
   "metadata": {},
   "outputs": [],
   "source": [
    "model.save('keras_next_word_model.h5')\n",
    "pickle.dump(history, open(\"history.p\", \"wb\"))\n",
    "\n",
    "model = load_model('keras_next_word_model.h5')\n",
    "history = pickle.load(open(\"history.p\", \"rb\"))"
   ]
  },
  {
   "cell_type": "code",
   "execution_count": 12,
   "id": "331b34d7",
   "metadata": {},
   "outputs": [
    {
     "name": "stdout",
     "output_type": "stream",
     "text": [
      "it\n",
      "is\n",
      "not\n",
      "a\n",
      "lack\n"
     ]
    },
    {
     "data": {
      "text/plain": [
       "array([[[0., 0., 0., ..., 0., 0., 0.],\n",
       "        [0., 0., 0., ..., 0., 0., 0.],\n",
       "        [0., 0., 0., ..., 0., 0., 0.],\n",
       "        [0., 0., 0., ..., 0., 0., 0.],\n",
       "        [0., 0., 0., ..., 0., 0., 0.]]])"
      ]
     },
     "execution_count": 12,
     "metadata": {},
     "output_type": "execute_result"
    }
   ],
   "source": [
    "def prepare_input(text):\n",
    "    x = np.zeros((1, WORD_LENGTH, len(unique_words)))\n",
    "    for t, word in enumerate(text.split()):\n",
    "        print(word)\n",
    "        x[0, t, unique_word_index[word]] = 1\n",
    "    return x\n",
    "prepare_input(\"It is not a lack\".lower())"
   ]
  },
  {
   "cell_type": "code",
   "execution_count": 13,
   "id": "39548608",
   "metadata": {},
   "outputs": [],
   "source": [
    "def sample(preds, top_n=3):\n",
    "    preds = np.asarray(preds).astype('float64')\n",
    "    preds = np.log(preds)\n",
    "    exp_preds = np.exp(preds)\n",
    "    preds = exp_preds / np.sum(exp_preds)\n",
    "    return heapq.nlargest(top_n, range(len(preds)), preds.take)"
   ]
  },
  {
   "cell_type": "code",
   "execution_count": 14,
   "id": "1c508dc4",
   "metadata": {},
   "outputs": [],
   "source": [
    "def predict_completions(text, n=3):\n",
    "    if text == \"\":\n",
    "        return(\"0\")\n",
    "    x = prepare_input(text)\n",
    "    preds = model.predict(x, verbose=0)[0]\n",
    "    next_indices = sample(preds, n)\n",
    "    return [unique_words[idx] for idx in next_indices]"
   ]
  },
  {
   "cell_type": "code",
   "execution_count": 15,
   "id": "761820b6",
   "metadata": {},
   "outputs": [
    {
     "name": "stdout",
     "output_type": "stream",
     "text": [
      "correct sentence:  Your life will never be there in the same situation again\n",
      "Sequence:  your life will never be\n",
      "your\n",
      "life\n",
      "will\n",
      "never\n",
      "be\n",
      "next possible words:  ['my', 'time', 'able', 'much', 'better']\n"
     ]
    }
   ],
   "source": [
    "q =  \"Your life will never be there in the same situation again\"\n",
    "print(\"correct sentence: \",q)\n",
    "seq = \" \".join(tokenizer.tokenize(q.lower())[0:5])\n",
    "print(\"Sequence: \",seq)\n",
    "print(\"next possible words: \", predict_completions(seq, 5))"
   ]
  },
  {
   "cell_type": "code",
   "execution_count": null,
   "id": "242e7806",
   "metadata": {},
   "outputs": [],
   "source": []
  }
 ],
 "metadata": {
  "kernelspec": {
   "display_name": "Python 3 (ipykernel)",
   "language": "python",
   "name": "python3"
  },
  "language_info": {
   "codemirror_mode": {
    "name": "ipython",
    "version": 3
   },
   "file_extension": ".py",
   "mimetype": "text/x-python",
   "name": "python",
   "nbconvert_exporter": "python",
   "pygments_lexer": "ipython3",
   "version": "3.10.2"
  }
 },
 "nbformat": 4,
 "nbformat_minor": 5
}
